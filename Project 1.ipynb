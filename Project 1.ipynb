{
 "cells": [
  {
   "cell_type": "markdown",
   "id": "215b2e50",
   "metadata": {},
   "source": [
    "# **Project 1**"
   ]
  },
  {
   "cell_type": "markdown",
   "id": "3312fb1d-4945-49c1-9a37-dfcd51752144",
   "metadata": {},
   "source": [
    "## Import packages"
   ]
  },
  {
   "cell_type": "code",
   "execution_count": 5,
   "id": "876d3044-7642-4fd8-8001-2c814d146a00",
   "metadata": {},
   "outputs": [],
   "source": [
    "import pandas as pd\n",
    "import numpy as np\n",
    "import matplotlib.pyplot as plt\n",
    "import os"
   ]
  },
  {
   "cell_type": "markdown",
   "id": "7a4ed94d-aa2a-479e-94dd-f1d127ffedc6",
   "metadata": {},
   "source": [
    "**Data folder**"
   ]
  },
  {
   "cell_type": "code",
   "execution_count": 6,
   "id": "222df327-4077-4488-9451-d9129338e1ec",
   "metadata": {},
   "outputs": [],
   "source": [
    "data_path = \"data\""
   ]
  },
  {
   "cell_type": "markdown",
   "id": "91e421ab-a806-4912-aadf-de2a2601934d",
   "metadata": {},
   "source": [
    "## Load data"
   ]
  },
  {
   "cell_type": "code",
   "execution_count": 7,
   "id": "17b12ffb-732c-4d6f-9a2f-9cf87824d3af",
   "metadata": {},
   "outputs": [],
   "source": [
    "def read_data(data_dir , str_cols =[], date_cols =[], date_fmt= None):\n",
    "    dtype_dic = {i:str for i in str_cols}\n",
    "    df = pd.read_csv(data_dir, dtype= dtype_dic)\n",
    "    for i in date_cols:\n",
    "        df[i] = pd.to_datetime(df[i], format= date_fmt)\n",
    "    return df"
   ]
  },
  {
   "cell_type": "markdown",
   "id": "0d9a03cf-fc47-44cb-a1d9-64bfbc090aa8",
   "metadata": {},
   "source": [
    "**account**"
   ]
  },
  {
   "cell_type": "code",
   "execution_count": 8,
   "id": "db230372-04d0-461a-8b4b-ef239ea8bf99",
   "metadata": {},
   "outputs": [],
   "source": [
    "acc_dir = os.path.join(data_path,'acnt.csv')\n",
    "str_cols = ['ACNT_NO','ACNT_CLSS','ACNT_STAT','DEPO_CLSS']\n",
    "date_cols = ['OPNDT','CLOS_DATE']\n",
    "acc_df = read_data( acc_dir , str_cols, date_cols)"
   ]
  },
  {
   "cell_type": "markdown",
   "id": "a6163149-51a2-43bf-b3c1-e62b6fc6ba6d",
   "metadata": {},
   "source": [
    "**sub-account**"
   ]
  },
  {
   "cell_type": "code",
   "execution_count": 9,
   "id": "57f23ed5-52ae-4fbf-826a-f8b6b380b346",
   "metadata": {},
   "outputs": [],
   "source": [
    "subacc_dir = os.path.join(data_path,'subacnt.csv')\n",
    "str_cols = ['ACNT_NO','SUB_ACNT_NO','SUB_ACNT_CLSS']\n",
    "date_cols = ['OPNDT','CLOS_DATE']\n",
    "subacc_df = read_data( subacc_dir, str_cols, date_cols, date_fmt = \"%Y%m%d\")"
   ]
  },
  {
   "cell_type": "markdown",
   "id": "8314a6c2-8020-4ab2-9458-06b9728c75e0",
   "metadata": {},
   "source": [
    "**order**"
   ]
  },
  {
   "cell_type": "code",
   "execution_count": 10,
   "id": "26d3aee4-f2e0-4fd7-aac0-315fe19fe74d",
   "metadata": {},
   "outputs": [],
   "source": [
    "ord_dir = os.path.join(data_path,'order.csv')\n",
    "str_cols = ['SUB_ACNT_NO','FLAG_ORDER']\n",
    "date_cols = ['TRD_DATE']\n",
    "ord_df = read_data(ord_dir,str_cols, date_cols, date_fmt = \"%Y%m%d\")"
   ]
  },
  {
   "cell_type": "markdown",
   "id": "008ee8bc-ab34-404c-b683-ddc0dab419cf",
   "metadata": {},
   "source": [
    "**nav**"
   ]
  },
  {
   "cell_type": "code",
   "execution_count": 11,
   "id": "5d47faf6-1ea0-496d-9aa0-0e09a518eea4",
   "metadata": {},
   "outputs": [],
   "source": [
    "nav_dir = os.path.join(data_path,'nav.csv')\n",
    "str_cols = ['SUB_ACNT_NO']\n",
    "date_cols = ['PROC_DATE']\n",
    "nav_df = read_data(nav_dir,str_cols, date_cols, date_fmt = \"%Y%m%d\")"
   ]
  },
  {
   "cell_type": "markdown",
   "id": "60f91c99-17b8-4c57-b28d-18678f1e7df9",
   "metadata": {},
   "source": [
    "## Analysis"
   ]
  },
  {
   "cell_type": "code",
   "execution_count": 12,
   "id": "9cf105e8-ffc5-423c-89a4-5dd5453bd0a1",
   "metadata": {},
   "outputs": [],
   "source": [
    "rpdate = pd.to_datetime(\"2024-01-01\")"
   ]
  },
  {
   "cell_type": "markdown",
   "id": "9bb57e29-5b8d-4d5e-92a7-15315793d2ca",
   "metadata": {},
   "source": [
    "### Pre-processing"
   ]
  },
  {
   "cell_type": "code",
   "execution_count": 13,
   "id": "1db26bbe-82cc-4594-828a-6e4fd59af0eb",
   "metadata": {},
   "outputs": [],
   "source": [
    "# fillter account\n",
    "acc_ft = acc_df[acc_df['OPNDT'] < rpdate]"
   ]
  },
  {
   "cell_type": "code",
   "execution_count": 14,
   "id": "6de9444f-6254-469d-8161-c036e0a5b3d4",
   "metadata": {},
   "outputs": [],
   "source": [
    "# merge account with sub -account\n",
    "subacc_df = subacc_df[['ACNT_NO', 'SUB_ACNT_NO']]\n",
    "acc_merge = acc_ft.merge(subacc_df, how = 'inner')"
   ]
  },
  {
   "cell_type": "code",
   "execution_count": 15,
   "id": "b563c4e5-f127-44fc-934b-503d91f6a195",
   "metadata": {},
   "outputs": [],
   "source": [
    "# acc list - acc unique\n",
    "acc_ls = acc_ft[['ACNT_NO', 'OPNDT', 'CLOS_DATE']].copy()\n",
    "# recency_opn is open acc in time form 1 to 59\n",
    "acc_ls['recency_opn'] = acc_ls['OPNDT'] > (rpdate - pd.Timedelta(days = 60))\n",
    "acc_ls['closed'] = ~acc_ls['CLOS_DATE'].isna()"
   ]
  },
  {
   "cell_type": "code",
   "execution_count": 16,
   "id": "085781e2-8373-4942-aec1-15fd9b9488d7",
   "metadata": {},
   "outputs": [
    {
     "data": {
      "text/plain": [
       "True"
      ]
     },
     "execution_count": 16,
     "metadata": {},
     "output_type": "execute_result"
    }
   ],
   "source": [
    "# check acc is unique \n",
    "acc_ls['ACNT_NO'].is_unique"
   ]
  },
  {
   "cell_type": "markdown",
   "id": "97596252-f11e-4a4b-8141-9bf33a17e04d",
   "metadata": {},
   "source": [
    "### Recency"
   ]
  },
  {
   "cell_type": "code",
   "execution_count": 17,
   "id": "ed32f111-98f8-462e-a2d9-d64d30385787",
   "metadata": {},
   "outputs": [],
   "source": [
    "# merge acc_merge with order\n",
    "rec = acc_merge.merge(ord_df, how = 'left')"
   ]
  },
  {
   "cell_type": "code",
   "execution_count": 18,
   "id": "873e53fc-69b9-4d30-8fbe-b3533b36bc38",
   "metadata": {},
   "outputs": [],
   "source": [
    "# chosse last trd date and numbering for acc have trd\n",
    "acc_trd = rec.groupby('ACNT_NO')['TRD_DATE'].max().reset_index()\n",
    "acc_trd = acc_trd.rename({'TRD_DATE':'MAC_TRD_DATE'}, axis =1)\n",
    "\n",
    "# MAX_TRD_DATE = False --> 'non_trade' = True\n",
    "acc_trd['non_trd'] = acc_trd['MAC_TRD_DATE'].isna()"
   ]
  },
  {
   "cell_type": "code",
   "execution_count": 19,
   "id": "13e3daca-4ec4-4660-b032-4177ebf6f6bf",
   "metadata": {},
   "outputs": [],
   "source": [
    "# merge acc_trd with acc_ls\n",
    "acc_ls = acc_ls.merge(acc_trd, how = 'left')"
   ]
  },
  {
   "cell_type": "code",
   "execution_count": 20,
   "id": "52cbba32-36c1-47e1-9a61-0af74d73c84c",
   "metadata": {},
   "outputs": [],
   "source": [
    "# label for all recency_group\n",
    "\n",
    "## acc_closed -->0\n",
    "acc_ls.loc[acc_ls['closed'], 'recency_grp'] = '0'\n",
    "\n",
    "## non_closed + non trade in + recency_opne 1to59 days-->1\n",
    "non_trade_condi = (~acc_ls['closed']) & (acc_ls['non_trd'])\n",
    "acc_ls.loc[non_trade_condi & (acc_ls['recency_opn']), 'recency_grp'] = '1'\n",
    "\n",
    "## non_closed + non trade in + recency open over_equal 60 days-->0\n",
    "acc_ls.loc[non_trade_condi & (~acc_ls['recency_opn']), 'recency_grp'] = '0'\n",
    "\n",
    "# Have trade\n",
    "trd_codi = ~non_trade_condi\n",
    "in_range_1to59 = (acc_ls['MAC_TRD_DATE'] >= (rpdate - pd.Timedelta(days = 59))) & (acc_ls['MAC_TRD_DATE'] < rpdate)\n",
    "in_range_60to179 = (acc_ls['MAC_TRD_DATE'] >= (rpdate - pd.Timedelta(days = 179))) & (acc_ls['MAC_TRD_DATE'] < (rpdate - pd.Timedelta(days = 60)))\n",
    "in_range_180to365 = (acc_ls['MAC_TRD_DATE'] >= (rpdate - pd.Timedelta(days = 364))) & (acc_ls['MAC_TRD_DATE'] < (rpdate - pd.Timedelta(days = 180)))\n",
    "out_range_365 = (acc_ls['MAC_TRD_DATE'] <= (rpdate - pd.Timedelta(days = 365)))\n",
    "acc_ls.loc[trd_codi & in_range_1to59, 'recency_grp'] = '3'\n",
    "acc_ls.loc[trd_codi & in_range_60to179, 'recency_grp'] = '2'\n",
    "acc_ls.loc[trd_codi & in_range_180to365, 'recency_grp'] = '1'\n",
    "acc_ls.loc[trd_codi & out_range_365, 'recency_grp'] = '0'"
   ]
  },
  {
   "cell_type": "markdown",
   "id": "bf4bb336-5b56-41fd-8cf7-6106a91422f8",
   "metadata": {},
   "source": [
    "### Frequency and Monetary"
   ]
  },
  {
   "cell_type": "code",
   "execution_count": 21,
   "id": "ed0f34a6-40c7-40d0-84c8-10cc382adf93",
   "metadata": {},
   "outputs": [],
   "source": [
    "# acc_closed \n",
    "acc_ls.loc[acc_ls['closed'], ['frequency_grp','monatery_grp']] = '0'\n",
    "\n",
    "## non_closed + non trade in + recency_opne 1to59 days-->1\n",
    "non_trade_condi = (~acc_ls['closed']) & (acc_ls['non_trd'])\n",
    "in_range_1to59 = (acc_ls['OPNDT'] >= (rpdate - pd.Timedelta(days = 59))) & (acc_ls['OPNDT'] < rpdate)\n",
    "acc_ls.loc[non_trade_condi & in_range_1to59, ['frequency_grp','monatery_grp']] = '1'\n",
    "\n",
    "## non_closed + non trade in + recency_opne over_equals 60 days-->0\n",
    "out_range_60 = (acc_ls['OPNDT'] >= (rpdate - pd.Timedelta(days = 60)))\n",
    "acc_ls.loc[non_trade_condi & out_range_60,['frequency_grp','monatery_grp']] = '0'\n",
    "\n",
    "## have trade\n",
    "trd_condi = ~non_trade_condi"
   ]
  },
  {
   "cell_type": "code",
   "execution_count": 22,
   "id": "8ac16c87-8244-439c-b3c5-513b630a163c",
   "metadata": {},
   "outputs": [],
   "source": [
    "## MMO account\n",
    "ord_agg = rec.groupby('ACNT_NO').agg({'TRD_DATE' : 'max','COUNT_ORDER': 'sum','TRD_VALUE': 'sum'})\n",
    "mmo = ord_agg[\n",
    "    (ord_agg['TRD_DATE'] >= '2022-01-01')&\n",
    "    (ord_agg['COUNT_ORDER'] == 1) &\n",
    "    (ord_agg['TRD_VALUE'] < 16000)\n",
    "]\n",
    "acc_ls['mmo'] = acc_ls['ACNT_NO'].isin(mmo.index)\n",
    "acc_ls.loc[acc_ls['mmo'], ['frequency_grp','monatery_grp']] = '0'"
   ]
  },
  {
   "cell_type": "code",
   "execution_count": 23,
   "id": "be6a57f4-e180-49d2-9e2f-f59db702d037",
   "metadata": {},
   "outputs": [],
   "source": [
    "# change name cols to understand when check \n",
    "ord_agg = ord_agg.rename({'COUNT_ORDER' : 'TOTAL_ORDER', 'TRD_VALUE': 'TOTAL_TRD_VALUE'}, axis = 1)\n",
    "# reset ord_agg to sort \n",
    "ord_agg = ord_agg.reset_index()"
   ]
  },
  {
   "cell_type": "code",
   "execution_count": 24,
   "id": "b7809116-1da5-4882-8161-8360488166d2",
   "metadata": {},
   "outputs": [],
   "source": [
    "# merge ord_agg with acc_ls\n",
    "acc_ls = acc_ls.merge(ord_agg[['ACNT_NO','TOTAL_ORDER','TOTAL_TRD_VALUE']], how = 'left')"
   ]
  },
  {
   "cell_type": "code",
   "execution_count": 25,
   "id": "c720c03f-0704-4001-8d7c-89d5bf6aeb90",
   "metadata": {},
   "outputs": [],
   "source": [
    "# active acc with no MMO\n",
    "acc_ls['act_no_mmo'] = (~acc_ls['closed']) & (~acc_ls['mmo']) & (~acc_ls['non_trd'])\n",
    "acc_ls['acc_lifetime'] = (rpdate - acc_ls['OPNDT'])/pd.Timedelta(days=1)\n",
    "\n",
    "# accounts that have an open date in last 1 year up to report date\n",
    "acc_ls['flag_adj'] = acc_ls['acc_lifetime'] <= 365"
   ]
  },
  {
   "cell_type": "code",
   "execution_count": 26,
   "id": "e319d521-9209-407f-8cbf-3350f99ff078",
   "metadata": {},
   "outputs": [],
   "source": [
    "acc_ls.loc[acc_ls['flag_adj'], 'TOTAL_ORDER'] = 365/acc_ls.loc[acc_ls['flag_adj'], 'acc_lifetime']*acc_ls.loc[acc_ls['flag_adj'], 'TOTAL_ORDER']\n",
    "acc_ls.loc[acc_ls['flag_adj'], 'TOTAL_TRD_VALUE'] = 365/acc_ls.loc[acc_ls['flag_adj'], 'acc_lifetime']*acc_ls.loc[acc_ls['flag_adj'], 'TOTAL_TRD_VALUE']"
   ]
  },
  {
   "cell_type": "code",
   "execution_count": 27,
   "id": "75190bc7-b484-41b1-8de5-3aefd8f0065d",
   "metadata": {},
   "outputs": [],
   "source": [
    "# active account not mmo have trading count\n",
    "trd_count_act_no_mmo = acc_ls.loc[acc_ls['act_no_mmo'], 'TOTAL_ORDER']\n",
    "acc_ls.loc[acc_ls['act_no_mmo'] & (acc_ls['TOTAL_ORDER'] <= trd_count_act_no_mmo.quantile(0.5)), 'frequency_grp'] = '1'\n",
    "acc_ls.loc[acc_ls['act_no_mmo'] & \n",
    "        (acc_ls['TOTAL_ORDER'] > trd_count_act_no_mmo.quantile(0.5)) &\n",
    "        (acc_ls['TOTAL_ORDER'] <= trd_count_act_no_mmo.quantile(0.95)),\n",
    "        'frequency_grp'] = '2'\n",
    "acc_ls.loc[acc_ls['act_no_mmo'] & (acc_ls['TOTAL_ORDER'] > trd_count_act_no_mmo.quantile(0.95)), 'frequency_grp'] = '3'\n",
    "\n",
    "\n",
    "\n",
    "# active account not mmo have trading value\n",
    "trd_value_act_no_mmo =  acc_ls.loc[acc_ls['act_no_mmo'], 'TOTAL_TRD_VALUE']\n",
    "acc_ls.loc[acc_ls['act_no_mmo'] & (acc_ls['TOTAL_TRD_VALUE'] <= trd_value_act_no_mmo.quantile(0.5)), 'monatery_grp'] = '1'\n",
    "acc_ls.loc[acc_ls['act_no_mmo'] & \n",
    "        (acc_ls['TOTAL_TRD_VALUE'] > trd_value_act_no_mmo.quantile(0.5)) &\n",
    "        (acc_ls['TOTAL_TRD_VALUE'] <= trd_value_act_no_mmo.quantile(0.95)),\n",
    "        'monatery_grp'] = '2'\n",
    "acc_ls.loc[acc_ls['act_no_mmo'] & (acc_ls['TOTAL_TRD_VALUE'] > trd_value_act_no_mmo.quantile(0.95)), 'monatery_grp'] = '3'"
   ]
  },
  {
   "cell_type": "markdown",
   "id": "c9353600-168e-4870-a816-ff4e7c13d3cc",
   "metadata": {},
   "source": [
    "### NAV"
   ]
  },
  {
   "cell_type": "code",
   "execution_count": 28,
   "id": "0b495262-d309-4d91-b3c9-f796b922dd1b",
   "metadata": {},
   "outputs": [],
   "source": [
    "nav_acc = nav_df.merge(subacc_df).groupby(['ACNT_NO','PROC_DATE'])['NAV'].sum()"
   ]
  },
  {
   "cell_type": "code",
   "execution_count": 29,
   "id": "69e39ddd-0252-4950-ba6b-f474fa5bce53",
   "metadata": {},
   "outputs": [],
   "source": [
    "nav_acc = nav_acc.reset_index()"
   ]
  },
  {
   "cell_type": "code",
   "execution_count": 30,
   "id": "bd77dc20-b019-48c1-912e-cabb8e9ee676",
   "metadata": {},
   "outputs": [],
   "source": [
    "# the average in last 30 days\n",
    "l30d = nav_acc[(nav_acc['PROC_DATE'] >= (rpdate - pd.Timedelta(days = 30))) & (nav_acc['PROC_DATE'] < rpdate)]\n",
    "l30d_nav_mean = l30d.groupby('ACNT_NO', as_index = False)['NAV'].mean().rename(columns = {'NAV' : 'NAV_30D'})\n",
    "\n",
    "#the average in last 90 days\n",
    "l90d = nav_acc[(nav_acc['PROC_DATE'] >= (rpdate - pd.Timedelta(days = 90))) & (nav_acc['PROC_DATE'] < rpdate)]\n",
    "l90d_nav_mean = l90d.groupby('ACNT_NO', as_index = False)['NAV'].mean().rename(columns = {'NAV' : 'NAV_90D'})"
   ]
  },
  {
   "cell_type": "code",
   "execution_count": 31,
   "id": "290a09aa-fee2-4b84-9fe3-3fc67443c869",
   "metadata": {},
   "outputs": [],
   "source": [
    "# merge l30d_nav_mean with l90d_nav_mean\n",
    "nav_mean  = l30d_nav_mean.merge(l90d_nav_mean, how = 'outer')\n",
    "\n",
    "# merge nav_mean with acc_ls\n",
    "acc_ls = acc_ls.merge(nav_mean, how = 'left')"
   ]
  },
  {
   "cell_type": "code",
   "execution_count": 32,
   "id": "5bfd6a79-2d19-4d53-9141-12550a39d5e9",
   "metadata": {},
   "outputs": [],
   "source": [
    "# NAV 90days >= 50k\n",
    "condi = acc_ls['NAV_90D'] >= 50000\n",
    "nav_q50 = acc_ls.loc[condi, 'NAV_30D'].quantile(0.5)\n",
    "nav_q90 = acc_ls.loc[condi, 'NAV_30D'].quantile(0.9)\n",
    "\n",
    "acc_ls.loc[(~condi) | ( (acc_ls['NAV_30D'].isna()) | (acc_ls['closed']) ), 'nav_grp'] = '0'\n",
    "acc_ls.loc[condi & (acc_ls['NAV_30D'] <= nav_q50), 'nav_grp'] = '1'\n",
    "acc_ls.loc[condi & (acc_ls['NAV_30D'] > nav_q50) & (acc_ls['NAV_30D'] < nav_q90), 'nav_grp'] = '2'\n",
    "acc_ls.loc[condi & (acc_ls['NAV_30D'] > nav_q90), 'nav_grp'] = '3'"
   ]
  },
  {
   "cell_type": "markdown",
   "id": "7802fc41-bb65-4a7c-8a3f-113b4891a5bb",
   "metadata": {},
   "source": [
    "### Group combination"
   ]
  },
  {
   "cell_type": "code",
   "execution_count": 33,
   "id": "60588d5e-f4c6-4433-84ba-eeaf16ecd83f",
   "metadata": {},
   "outputs": [],
   "source": [
    "acc_ls['RFMN'] = acc_ls['recency_grp'] + acc_ls['frequency_grp'] + acc_ls['monatery_grp'] + acc_ls['nav_grp'] "
   ]
  },
  {
   "cell_type": "code",
   "execution_count": 34,
   "id": "2bc384ed-10a7-43cc-a67f-e80dc043a10e",
   "metadata": {},
   "outputs": [],
   "source": [
    "vip = ['2333', '3333']\n",
    "promising = ['3331', '3233', '3232', '3133', '3132', '2332', '2233', '2232', '2133', '2132', '1333', '1332', '1233', '3332']\n",
    "loyal = ['3323', '3322', '3321', '3313', '3312', '2323', '2322', '2313', '2312']\n",
    "regular = ['3330', '3320', '3311', '3303', '3302', '3231', '3223', '3222', '3221', '3213','3212', '3211', '3203', '3202', '3131', '3123', '3122', '3121', '3113', '3112','3033', '2331','2330', '2321', '2320', '2311', '2303', '2302', '2231', '2223', '2222', '2221', '2213', '2212', '2131', '2123', '2122', '2121', '2113', '2112', '2033', '1323', '1223', '1133']\n",
    "sleeping = ['3310', '3301', '3230', '3220', '3210', '3201', '3130', '3120', '3111', '3110','3103', '3102', '3101', '3032', '3031', '3030', '3023', '3022', '3021', '3020','3013', '3012','3011', '3003', '3002', '2310', '2301', '2230', '2220', '2211','2210', '2203', '2202', '2201', '2130', '2120', '2111', '2110', '2103', '2102','2101', '2032', '2031', '2030', '2023','2022', '2021', '2013', '2012', '2011','2003', '1331', '1330', '1322', '1321', '1320', '1313', '1312', '1311', '1310','1303', '1302', '1301', '1232', '1231', '1230', '1222', '1221','1220', '1213','1212', '1211', '1210', '1203', '1202', '1201', '1132', '1131', '1130', '1123','1122', '1121', '1120', '1113', '1112', '1111', '1110', '1103', '1102', '1101','1033','1032', '1031', '1023', '1022', '1021', '1013', '1012','1011', '1003','0333', '0332', '0331', '0330', '0323', '0322', '0321', '0313', '0312', '0303','0302', '0233', '0232', '0231', '0223', '0222', '0221', '0213', '0212', '0203','0202', '0133', '0132', '0123', '0122', '0113', '0103', '0033', '0032', '0023','0013', '0003']\n",
    "churn = ['3300','3200', '3100', '3010', '3001', '3000', '2300', '2200', '2100', '2020','2010', '2002', '2001', '2000', '1300', '1200', '1100', '1030', '1020', '1010','1002', '1001', '1000', '0320', '0311', '0310', '0301', '0300', '0230', '0220','0211', '0210', '0201', '0200', '0131', '0130', '0121', '0120', '0112', '0111','0110', '0102', '0101', '0100', '0031', '0030', '0022', '0021', '0020', '0012','0011', '0010', '0002', '0001', '0000']\n",
    "acc_ls.loc[acc_ls['RFMN'].isin(vip), 'label'] = 'VIP'\n",
    "acc_ls.loc[acc_ls['RFMN'].isin(promising), 'label'] = 'PROMISING'\n",
    "acc_ls.loc[acc_ls['RFMN'].isin(loyal), 'label'] = 'LOYAL'\n",
    "acc_ls.loc[acc_ls['RFMN'].isin(regular), 'label'] = 'REGULAR'\n",
    "acc_ls.loc[acc_ls['RFMN'].isin(sleeping), 'label'] = 'SLEEPING'\n",
    "acc_ls.loc[acc_ls['RFMN'].isin(churn), 'label'] = 'CHURN'"
   ]
  },
  {
   "cell_type": "code",
   "execution_count": 35,
   "id": "cd02a7fc-4322-4c19-8e3d-5bbe80a444bd",
   "metadata": {},
   "outputs": [
    {
     "data": {
      "text/plain": [
       "label\n",
       "CHURN        10466\n",
       "REGULAR       5201\n",
       "SLEEPING      1674\n",
       "PROMISING      230\n",
       "LOYAL          218\n",
       "VIP            137\n",
       "Name: count, dtype: int64"
      ]
     },
     "execution_count": 35,
     "metadata": {},
     "output_type": "execute_result"
    }
   ],
   "source": [
    "acc_ls['label'].value_counts()"
   ]
  },
  {
   "cell_type": "code",
   "execution_count": 36,
   "id": "a9da9a77",
   "metadata": {},
   "outputs": [
    {
     "data": {
      "image/png": "[encoded data removed]",
      "text/plain": [
       "<Figure size 1300x900 with 1 Axes>"
      ]
     },
     "metadata": {},
     "output_type": "display_data"
    }
   ],
   "source": [
    "label_counts = acc_ls['label'].value_counts()\n",
    "label_percentages = label_counts / label_counts.sum() * 100\n",
    "# Vẽ biểu đồ hình tròn\n",
    "plt.figure(figsize=(13,9))\n",
    "plt.pie(label_percentages, labels=label_percentages.index, autopct='%1.1f%%', startangle=140)\n",
    "plt.title('Phần Trăm Tỷ Lệ Các Nhóm')\n",
    "plt.show()"
   ]
  },
  {
   "cell_type": "code",
   "execution_count": null,
   "id": "8882da99",
   "metadata": {},
   "outputs": [],
   "source": []
  }
 ],
 "metadata": {
  "kernelspec": {
   "display_name": "Python 3",
   "language": "python",
   "name": "python3"
  },
  "language_info": {
   "codemirror_mode": {
    "name": "ipython",
    "version": 3
   },
   "file_extension": ".py",
   "mimetype": "text/x-python",
   "name": "python",
   "nbconvert_exporter": "python",
   "pygments_lexer": "ipython3",
   "version": "3.11.9"
  }
 },
 "nbformat": 4,
 "nbformat_minor": 5
}
